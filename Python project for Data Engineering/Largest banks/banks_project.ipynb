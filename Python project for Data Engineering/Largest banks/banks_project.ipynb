{
 "cells": [
  {
   "cell_type": "code",
   "execution_count": null,
   "id": "71448ac1",
   "metadata": {},
   "outputs": [],
   "source": [
    "# Code for ETL operations on Country-GDP data\n",
    "\n",
    "# Importing the required libraries\n",
    "\n",
    "import requests\n",
    "from bs4 import BeautifulSoup\n",
    "import pandas as pd\n",
    "import sqlite3\n",
    "import numpy as np\n",
    "from datetime import datetime"
   ]
  },
  {
   "cell_type": "code",
   "execution_count": 97,
   "id": "bfc30f9d",
   "metadata": {
    "scrolled": true
   },
   "outputs": [],
   "source": [
    "def log_progress(message):\n",
    "    ''' This function logs the mentioned message of a given stage of the\n",
    "    code execution to a log file. Function returns nothing'''\n",
    "    time_format = '%Y-%h-%d:%H-%M-%S'\n",
    "    current_time = datetime.now()\n",
    "    timestamp = current_time.strfttime(time_format)\n",
    "    with open('code_log.txt', 'a') as f:\n",
    "        f.write(timestamp + ' : '+ str(message))\n",
    "        \n",
    "def extract(url, table_attribs):\n",
    "    ''' This function aims to extract the required\n",
    "    information from the website and save it to a data frame. The\n",
    "    function returns the data frame for further processing. '''\n",
    "    \n",
    "    webpage = requests.get(url).text\n",
    "    soup = BeautifulSoup(webpage,'html.parser')\n",
    "    table = soup.find('table')\n",
    "    \n",
    "    df = pd.DataFrame(columns=table_attribs)\n",
    "\n",
    "    for col in table.find_all('tr'):\n",
    "        if len(col.find_all('td')) == 0:\n",
    "            continue\n",
    "        bank_dict = {table_attribs[1]: col.find_all('td')[1].get_text().strip(),\n",
    "                     table_attribs[2]: float(col.find_all('td')[2].get_text().strip())}\n",
    "        bank_df = pd.DataFrame(bank_dict, index=[0])\n",
    "        df = pd.concat([df,bank_df], ignore_index=True) \n",
    "    return df\n",
    "\n",
    "def transform(df, csv_path):\n",
    "    ''' This function accesses the CSV file for exchange rate\n",
    "    information, and adds three columns to the data frame, each\n",
    "    containing the transformed version of Market Cap column to\n",
    "    respective currencies'''\n",
    "    exchange_rate = pd.read_csv(csv_path)\n",
    "    exchange_rate_dict = exchange_rate.set_index('Currency').to_dict()['Rate']\n",
    "    currency = ['MC_EUR_Billion' , 'MC_GBP_Billion', 'MC_INR_Billion']\n",
    "\n",
    "    for i,j in zip(MC,exchange_rate_dict.keys()):\n",
    "        df[i] = np.round(df['MC_USD_Billion'] * exchange_rate_dict[j],2)\n",
    "\n",
    "def load_to_csv(df, output_path):\n",
    "    ''' This function saves the final data frame as a CSV file in\n",
    "    the provided path. Function returns nothing.'''\n",
    "    df.to_csv(output_path, index=False)\n",
    "\n",
    "def load_to_db(df, sql_connection, table_name):\n",
    "    ''' This function saves the final data frame to a database\n",
    "    table with the provided name. Function returns nothing.'''\n",
    "    df.to_sql(table_name, sql_connection,if_exist = 'replace', index= False)\n",
    "\n",
    "def run_query(query_statement, sql_connection):\n",
    "    ''' This function runs the query on the database table and\n",
    "    prints the output on the terminal. Function returns nothing. '''\n",
    "    pd.read_sql(query_statement, sql_connection)"
   ]
  },
  {
   "cell_type": "code",
   "execution_count": 98,
   "id": "0c450ebe",
   "metadata": {},
   "outputs": [],
   "source": [
    "webpage = requests.get(url).text\n",
    "soup = BeautifulSoup(webpage,'html.parser')\n",
    "table = soup.find('table')\n"
   ]
  },
  {
   "cell_type": "code",
   "execution_count": 108,
   "id": "6da373d3",
   "metadata": {},
   "outputs": [
    {
     "data": {
      "text/plain": [
       "'JPMorgan Chase'"
      ]
     },
     "execution_count": 108,
     "metadata": {},
     "output_type": "execute_result"
    }
   ],
   "source": [
    "table.find_all('tr')[1].find_all('td')[1].find_all('a')[1]['title']"
   ]
  }
 ],
 "metadata": {
  "kernelspec": {
   "display_name": "Python 3 (ipykernel)",
   "language": "python",
   "name": "python3"
  },
  "language_info": {
   "codemirror_mode": {
    "name": "ipython",
    "version": 3
   },
   "file_extension": ".py",
   "mimetype": "text/x-python",
   "name": "python",
   "nbconvert_exporter": "python",
   "pygments_lexer": "ipython3",
   "version": "3.11.5"
  }
 },
 "nbformat": 4,
 "nbformat_minor": 5
}
