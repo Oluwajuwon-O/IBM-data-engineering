{
 "cells": [
  {
   "cell_type": "code",
   "execution_count": 1,
   "id": "88bb5bec",
   "metadata": {},
   "outputs": [],
   "source": [
    "# Code for ETL operations on Country-GDP data\n",
    "\n",
    "# Importing the required libraries\n",
    "\n",
    "import requests\n",
    "from bs4 import BeautifulSoup\n",
    "import pandas as pd\n",
    "import sqlite3\n",
    "import numpy as np\n",
    "from datetime import datetime"
   ]
  },
  {
   "cell_type": "code",
   "execution_count": 26,
   "id": "bfc30f9d",
   "metadata": {
    "scrolled": true
   },
   "outputs": [],
   "source": [
    "def log_progress(message):\n",
    "    ''' This function logs the mentioned message of a given stage of the\n",
    "    code execution to a log file. Function returns nothing'''\n",
    "    time_format = '%Y-%h-%d:%H-%M-%S'\n",
    "    current_time = datetime.now()\n",
    "    timestamp = current_time.strfttime(time_format)\n",
    "    with open('code_log.txt', 'a') as f:\n",
    "        f.write(timestamp + ' : '+ str(message))\n",
    "        \n",
    "def extract(url, table_attribs):\n",
    "    ''' This function aims to extract the required\n",
    "    information from the website and save it to a data frame. The\n",
    "    function returns the data frame for further processing. '''\n",
    "    df = pd.DataFrame(columns=table_attribs)\n",
    "\n",
    "    for col in table.find_all('tr'):\n",
    "        if len(col.find_all('td')) == 0:\n",
    "            continue\n",
    "        bank_dict = {table_attribs[0]: col.find_all('td')[0].get_text().strip(),\n",
    "                     table_attribs[1]: col.find_all('td')[1].get_text().strip(),\n",
    "                     table_attribs[2]: float(col.find_all('td')[2].get_text().strip())}\n",
    "        bank_df = pd.DataFrame(bank_dict, index=[0])\n",
    "        df = pd.concat([df,bank_df], ignore_index=True) \n",
    "    return df\n",
    "\n",
    "def transform(df, csv_path):\n",
    "    ''' This function accesses the CSV file for exchange rate\n",
    "    information, and adds three columns to the data frame, each\n",
    "    containing the transformed version of Market Cap column to\n",
    "    respective currencies'''\n",
    "\n",
    "    return df\n",
    "\n",
    "def load_to_csv(df, output_path):\n",
    "    ''' This function saves the final data frame as a CSV file in\n",
    "    the provided path. Function returns nothing.'''\n",
    "\n",
    "def load_to_db(df, sql_connection, table_name):\n",
    "    ''' This function saves the final data frame to a database\n",
    "    table with the provided name. Function returns nothing.'''\n",
    "\n",
    "def run_query(query_statement, sql_connection):\n",
    "    ''' This function runs the query on the database table and\n",
    "    prints the output on the terminal. Function returns nothing. '''"
   ]
  },
  {
   "cell_type": "code",
   "execution_count": 2,
   "id": "b0648959",
   "metadata": {},
   "outputs": [],
   "source": [
    "url = 'https://web.archive.org/web/20230908092635 /https://en.wikipedia.org/wiki/List_of_largest_banks'"
   ]
  },
  {
   "cell_type": "code",
   "execution_count": 3,
   "id": "f57985d6",
   "metadata": {},
   "outputs": [],
   "source": [
    "webpage = requests.get(url).text"
   ]
  },
  {
   "cell_type": "code",
   "execution_count": 4,
   "id": "4aee1559",
   "metadata": {},
   "outputs": [],
   "source": [
    "soup = BeautifulSoup(webpage,'html.parser')"
   ]
  },
  {
   "cell_type": "code",
   "execution_count": 5,
   "id": "61984024",
   "metadata": {},
   "outputs": [],
   "source": [
    "table = soup.find('table')"
   ]
  },
  {
   "cell_type": "code",
   "execution_count": 6,
   "id": "12bdd954",
   "metadata": {
    "scrolled": true
   },
   "outputs": [
    {
     "data": {
      "text/plain": [
       "'3'"
      ]
     },
     "execution_count": 6,
     "metadata": {},
     "output_type": "execute_result"
    }
   ],
   "source": [
    "table.find_all('tr')[3].find_all('td')[0].get_text().strip()"
   ]
  },
  {
   "cell_type": "code",
   "execution_count": null,
   "id": "fab08323",
   "metadata": {},
   "outputs": [],
   "source": [
    "table.find_all('tr')[3].find_all('td')[1].get_text().strip()"
   ]
  },
  {
   "cell_type": "code",
   "execution_count": null,
   "id": "08431c83",
   "metadata": {},
   "outputs": [],
   "source": []
  },
  {
   "cell_type": "code",
   "execution_count": null,
   "id": "6dfdb456",
   "metadata": {},
   "outputs": [],
   "source": [
    "banks_dict = {'rank':[],'bank_name':[],'market':[]}\n",
    "\n",
    "for col in table.find_all('tr'):\n",
    "    if len(col.find_all('td')) == 0:\n",
    "        continue\n",
    "    for index,key in enumerate(banks_dict.keys()):\n",
    "        banks_dict[key].append(col.find_all('td')[index].get_text().strip())\n",
    "\n",
    "banks_df = pd.DataFrame(banks_dict)"
   ]
  },
  {
   "cell_type": "code",
   "execution_count": 18,
   "id": "31829eac",
   "metadata": {},
   "outputs": [],
   "source": [
    "table_attribs = ['rank','bank_name','market']\n",
    "banks_df = pd.DataFrame(columns=table_attribs)"
   ]
  },
  {
   "cell_type": "code",
   "execution_count": null,
   "id": "15d8e859",
   "metadata": {},
   "outputs": [],
   "source": [
    "for col in table.find_all('tr'):\n",
    "    if len(col.find_all('td')) == 0:\n",
    "        continue\n",
    "    print(col.find_all('td')[1].get_text().strip())"
   ]
  },
  {
   "cell_type": "code",
   "execution_count": 27,
   "id": "c86129f2",
   "metadata": {},
   "outputs": [
    {
     "data": {
      "text/html": [
       "<div>\n",
       "<style scoped>\n",
       "    .dataframe tbody tr th:only-of-type {\n",
       "        vertical-align: middle;\n",
       "    }\n",
       "\n",
       "    .dataframe tbody tr th {\n",
       "        vertical-align: top;\n",
       "    }\n",
       "\n",
       "    .dataframe thead th {\n",
       "        text-align: right;\n",
       "    }\n",
       "</style>\n",
       "<table border=\"1\" class=\"dataframe\">\n",
       "  <thead>\n",
       "    <tr style=\"text-align: right;\">\n",
       "      <th></th>\n",
       "      <th>rank</th>\n",
       "      <th>bank_name</th>\n",
       "      <th>market</th>\n",
       "    </tr>\n",
       "  </thead>\n",
       "  <tbody>\n",
       "    <tr>\n",
       "      <th>0</th>\n",
       "      <td>1</td>\n",
       "      <td>JPMorgan Chase</td>\n",
       "      <td>432.92</td>\n",
       "    </tr>\n",
       "    <tr>\n",
       "      <th>1</th>\n",
       "      <td>2</td>\n",
       "      <td>Bank of America</td>\n",
       "      <td>231.52</td>\n",
       "    </tr>\n",
       "    <tr>\n",
       "      <th>2</th>\n",
       "      <td>3</td>\n",
       "      <td>Industrial and Commercial Bank of China</td>\n",
       "      <td>194.56</td>\n",
       "    </tr>\n",
       "    <tr>\n",
       "      <th>3</th>\n",
       "      <td>4</td>\n",
       "      <td>Agricultural Bank of China</td>\n",
       "      <td>160.68</td>\n",
       "    </tr>\n",
       "    <tr>\n",
       "      <th>4</th>\n",
       "      <td>5</td>\n",
       "      <td>HDFC Bank</td>\n",
       "      <td>157.91</td>\n",
       "    </tr>\n",
       "    <tr>\n",
       "      <th>5</th>\n",
       "      <td>6</td>\n",
       "      <td>Wells Fargo</td>\n",
       "      <td>155.87</td>\n",
       "    </tr>\n",
       "    <tr>\n",
       "      <th>6</th>\n",
       "      <td>7</td>\n",
       "      <td>HSBC Holdings PLC</td>\n",
       "      <td>148.90</td>\n",
       "    </tr>\n",
       "    <tr>\n",
       "      <th>7</th>\n",
       "      <td>8</td>\n",
       "      <td>Morgan Stanley</td>\n",
       "      <td>140.83</td>\n",
       "    </tr>\n",
       "    <tr>\n",
       "      <th>8</th>\n",
       "      <td>9</td>\n",
       "      <td>China Construction Bank</td>\n",
       "      <td>139.82</td>\n",
       "    </tr>\n",
       "    <tr>\n",
       "      <th>9</th>\n",
       "      <td>10</td>\n",
       "      <td>Bank of China</td>\n",
       "      <td>136.81</td>\n",
       "    </tr>\n",
       "  </tbody>\n",
       "</table>\n",
       "</div>"
      ],
      "text/plain": [
       "  rank                                bank_name  market\n",
       "0    1                           JPMorgan Chase  432.92\n",
       "1    2                          Bank of America  231.52\n",
       "2    3  Industrial and Commercial Bank of China  194.56\n",
       "3    4               Agricultural Bank of China  160.68\n",
       "4    5                                HDFC Bank  157.91\n",
       "5    6                              Wells Fargo  155.87\n",
       "6    7                        HSBC Holdings PLC  148.90\n",
       "7    8                           Morgan Stanley  140.83\n",
       "8    9                  China Construction Bank  139.82\n",
       "9   10                            Bank of China  136.81"
      ]
     },
     "execution_count": 27,
     "metadata": {},
     "output_type": "execute_result"
    }
   ],
   "source": [
    "table_attribs = ['rank','bank_name','market']\n",
    "banks_df = pd.DataFrame(columns=table_attribs)\n",
    "\n",
    "for col in table.find_all('tr'):\n",
    "    if len(col.find_all('td')) == 0:\n",
    "        continue\n",
    "    bank_dict = {table_attribs[0]: col.find_all('td')[0].get_text().strip(),\n",
    "                 table_attribs[1]: col.find_all('td')[1].get_text().strip(),\n",
    "                 table_attribs[2]: float(col.find_all('td')[2].get_text().strip())}\n",
    "    bank_df = pd.DataFrame(bank_dict, index=[0])\n",
    "    banks_df = pd.concat([banks_df,bank_df], ignore_index=True)\n",
    "banks_df    "
   ]
  },
  {
   "cell_type": "code",
   "execution_count": 28,
   "id": "cdb22578",
   "metadata": {},
   "outputs": [
    {
     "data": {
      "text/html": [
       "<div>\n",
       "<style scoped>\n",
       "    .dataframe tbody tr th:only-of-type {\n",
       "        vertical-align: middle;\n",
       "    }\n",
       "\n",
       "    .dataframe tbody tr th {\n",
       "        vertical-align: top;\n",
       "    }\n",
       "\n",
       "    .dataframe thead th {\n",
       "        text-align: right;\n",
       "    }\n",
       "</style>\n",
       "<table border=\"1\" class=\"dataframe\">\n",
       "  <thead>\n",
       "    <tr style=\"text-align: right;\">\n",
       "      <th></th>\n",
       "      <th>Currency</th>\n",
       "      <th>Rate</th>\n",
       "    </tr>\n",
       "  </thead>\n",
       "  <tbody>\n",
       "    <tr>\n",
       "      <th>0</th>\n",
       "      <td>EUR</td>\n",
       "      <td>0.93</td>\n",
       "    </tr>\n",
       "    <tr>\n",
       "      <th>1</th>\n",
       "      <td>GBP</td>\n",
       "      <td>0.80</td>\n",
       "    </tr>\n",
       "    <tr>\n",
       "      <th>2</th>\n",
       "      <td>INR</td>\n",
       "      <td>82.95</td>\n",
       "    </tr>\n",
       "  </tbody>\n",
       "</table>\n",
       "</div>"
      ],
      "text/plain": [
       "  Currency   Rate\n",
       "0      EUR   0.93\n",
       "1      GBP   0.80\n",
       "2      INR  82.95"
      ]
     },
     "execution_count": 28,
     "metadata": {},
     "output_type": "execute_result"
    }
   ],
   "source": [
    "exchange_rate = pd.read_csv('exchange_rate.csv')\n",
    "exchange_rate"
   ]
  },
  {
   "cell_type": "code",
   "execution_count": 32,
   "id": "0e770642",
   "metadata": {},
   "outputs": [
    {
     "data": {
      "text/plain": [
       "{'Currency': ['EUR', 'GBP', 'INR'], 'Rate': [0.93, 0.8, 82.95]}"
      ]
     },
     "execution_count": 32,
     "metadata": {},
     "output_type": "execute_result"
    }
   ],
   "source": [
    "exchange_rate.to_dict('list')"
   ]
  },
  {
   "cell_type": "code",
   "execution_count": 33,
   "id": "6ae3aca2",
   "metadata": {},
   "outputs": [
    {
     "data": {
      "text/plain": [
       "{'Currency': 0    EUR\n",
       " 1    GBP\n",
       " 2    INR\n",
       " Name: Currency, dtype: object,\n",
       " 'Rate': 0     0.93\n",
       " 1     0.80\n",
       " 2    82.95\n",
       " Name: Rate, dtype: float64}"
      ]
     },
     "execution_count": 33,
     "metadata": {},
     "output_type": "execute_result"
    }
   ],
   "source": [
    "exchange_rate.to_dict('series')"
   ]
  },
  {
   "cell_type": "code",
   "execution_count": 34,
   "id": "a67c1df9",
   "metadata": {},
   "outputs": [
    {
     "data": {
      "text/plain": [
       "{'index': [0, 1, 2],\n",
       " 'columns': ['Currency', 'Rate'],\n",
       " 'data': [['EUR', 0.93], ['GBP', 0.8], ['INR', 82.95]]}"
      ]
     },
     "execution_count": 34,
     "metadata": {},
     "output_type": "execute_result"
    }
   ],
   "source": [
    "exchange_rate.to_dict('split')"
   ]
  },
  {
   "cell_type": "code",
   "execution_count": 36,
   "id": "82c1f5ee",
   "metadata": {},
   "outputs": [
    {
     "data": {
      "text/plain": [
       "[{'Currency': 'EUR', 'Rate': 0.93},\n",
       " {'Currency': 'GBP', 'Rate': 0.8},\n",
       " {'Currency': 'INR', 'Rate': 82.95}]"
      ]
     },
     "execution_count": 36,
     "metadata": {},
     "output_type": "execute_result"
    }
   ],
   "source": [
    "exchange_rate.to_dict('records')"
   ]
  },
  {
   "cell_type": "code",
   "execution_count": 39,
   "id": "9d1002f0",
   "metadata": {},
   "outputs": [
    {
     "data": {
      "text/plain": [
       "{'EUR': {'Rate': 0.93}, 'GBP': {'Rate': 0.8}, 'INR': {'Rate': 82.95}}"
      ]
     },
     "execution_count": 39,
     "metadata": {},
     "output_type": "execute_result"
    }
   ],
   "source": [
    "exchange_rate.set_index('Currency').to_dict('index')"
   ]
  },
  {
   "cell_type": "code",
   "execution_count": 41,
   "id": "b99ae2bc",
   "metadata": {},
   "outputs": [
    {
     "data": {
      "text/html": [
       "<div>\n",
       "<style scoped>\n",
       "    .dataframe tbody tr th:only-of-type {\n",
       "        vertical-align: middle;\n",
       "    }\n",
       "\n",
       "    .dataframe tbody tr th {\n",
       "        vertical-align: top;\n",
       "    }\n",
       "\n",
       "    .dataframe thead th {\n",
       "        text-align: right;\n",
       "    }\n",
       "</style>\n",
       "<table border=\"1\" class=\"dataframe\">\n",
       "  <thead>\n",
       "    <tr style=\"text-align: right;\">\n",
       "      <th>Currency</th>\n",
       "      <th>EUR</th>\n",
       "      <th>GBP</th>\n",
       "      <th>INR</th>\n",
       "    </tr>\n",
       "  </thead>\n",
       "  <tbody>\n",
       "    <tr>\n",
       "      <th>Rate</th>\n",
       "      <td>0.93</td>\n",
       "      <td>0.8</td>\n",
       "      <td>82.95</td>\n",
       "    </tr>\n",
       "  </tbody>\n",
       "</table>\n",
       "</div>"
      ],
      "text/plain": [
       "Currency   EUR  GBP    INR\n",
       "Rate      0.93  0.8  82.95"
      ]
     },
     "execution_count": 41,
     "metadata": {},
     "output_type": "execute_result"
    }
   ],
   "source": [
    "exchange_rate.set_index('Currency').transpose()"
   ]
  }
 ],
 "metadata": {
  "kernelspec": {
   "display_name": "Python 3 (ipykernel)",
   "language": "python",
   "name": "python3"
  },
  "language_info": {
   "codemirror_mode": {
    "name": "ipython",
    "version": 3
   },
   "file_extension": ".py",
   "mimetype": "text/x-python",
   "name": "python",
   "nbconvert_exporter": "python",
   "pygments_lexer": "ipython3",
   "version": "3.11.5"
  }
 },
 "nbformat": 4,
 "nbformat_minor": 5
}
