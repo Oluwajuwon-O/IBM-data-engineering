{
 "cells": [
  {
   "cell_type": "code",
   "execution_count": 148,
   "id": "83eee374",
   "metadata": {},
   "outputs": [],
   "source": [
    "# Code for ETL operations on Country-GDP data\n",
    "\n",
    "# Importing the required libraries\n",
    "import requests\n",
    "from bs4 import BeautifulSoup\n",
    "import pandas as pd\n",
    "import sqlite3\n",
    "import numpy as np\n",
    "from datetime import datetime\n",
    "\n",
    "\n",
    "def extract(url, table_attribs):\n",
    "    ''' This function extracts the required\n",
    "    information from the website and saves it to a dataframe. The\n",
    "    function returns the dataframe for further processing. '''\n",
    "    \n",
    "    gdp_dict = {table_attribs[0]:[], table_attribs[1]:[]}\n",
    "    \n",
    "    web_page = requests.get(url).text\n",
    "    html = BeautifulSoup(web_page,'html.parser')\n",
    "    table = html.find_all('tbody')[2]\n",
    "    \n",
    "    rows = table.find_all('tr')\n",
    "    for row in rows:\n",
    "        if (len(row.find_all('td')) == 0):\n",
    "            continue\n",
    "        elif (len(row.find_all('td')[0].find_all('a')) == 0):\n",
    "            continue\n",
    "        elif (row.find_all('td')[2].get_text() == \"—\"):\n",
    "            continue\n",
    "        else:\n",
    "            for j in gdp_dict.keys():\n",
    "                if j == table_attribs[0]:\n",
    "                    gdp_dict[j].append(row.find_all('td')[0].find_all('a')[0].get_text())\n",
    "                if j == table_attribs[1]:\n",
    "                    gdp_dict[j].append(row.find_all('td')[2].get_text())\n",
    "        df = pd.DataFrame(gdp_dict)\n",
    "    return df\n",
    "\n",
    "def transform(df):\n",
    "    ''' This function converts the GDP information from Currency\n",
    "    format to float value, transforms the information of GDP from\n",
    "    USD (Millions) to USD (Billions) rounding to 2 decimal places.\n",
    "    The function returns the transformed dataframe.'''\n",
    "    \n",
    "    df['GDP_USD_billions'] = round(pd.to_numeric(df['GDP_USD_millions'].str.replace(',',''))/1e3,2)\n",
    "    return df\n",
    "\n",
    "def load_to_csv(df, csv_path):\n",
    "    ''' This function saves the final dataframe as a `CSV` file \n",
    "    in the provided path. Function returns nothing.'''\n",
    "    df.to_csv(csv_path, index=False)\n",
    "\n",
    "def load_to_db(df, sql_connection, table_name):\n",
    "    ''' This function saves the final dataframe as a database table\n",
    "    with the provided name. Function returns nothing.'''\n",
    "    df.to_sql(table_name, sql_connection, if_exists= 'replace', index= False)\n",
    "\n",
    "def run_query(query_statement, sql_connection):\n",
    "    ''' This function runs the stated query on the database table and\n",
    "    prints the output on the terminal. Function returns nothing. '''\n",
    "    print(pd.read_sql(query_statement, sql_connection))\n",
    "\n",
    "def log_progress(message):\n",
    "    ''' This function logs the mentioned message at a given stage of the code execution to a log file. Function returns nothing'''\n",
    "    time_format = '%Y-%h-%d-%H-%M-%S'\n",
    "    now = datetime.now()\n",
    "    timestamp = now.strftime(time_format)\n",
    "    with open('data\\\\log_file.txt','a') as f:\n",
    "        f.write(timestamp+' '+ str(message))\n"
   ]
  },
  {
   "cell_type": "code",
   "execution_count": 3,
   "id": "6fb31a90",
   "metadata": {},
   "outputs": [],
   "source": [
    "url = 'https://web.archive.org/web/20230902185326/https://en.wikipedia.org/wiki/List_of_countries_by_GDP_%28nominal%29'\n",
    "table_attribs = ['Country', 'GDP_USD_millions']\n",
    "db_name = 'data\\\\World_Economies.db'\n",
    "table_name = 'Countries_by_GDP'\n",
    "csv_path = 'data\\\\Countries_by_GDP.csv'\n",
    "conn = sqlite3.connect(db_name)"
   ]
  },
  {
   "cell_type": "code",
   "execution_count": 140,
   "id": "a973b08e",
   "metadata": {},
   "outputs": [],
   "source": [
    "gdp = extract(url,table_attribs)"
   ]
  },
  {
   "cell_type": "code",
   "execution_count": 142,
   "id": "03f046e6",
   "metadata": {},
   "outputs": [],
   "source": [
    "gdp_trans = transform(gdp)"
   ]
  },
  {
   "cell_type": "code",
   "execution_count": 146,
   "id": "6c39b33f",
   "metadata": {},
   "outputs": [],
   "source": [
    "conn = sqlite3.connect(db_name)\n",
    "load_to_db(gdp_trans, conn, table_name)"
   ]
  },
  {
   "cell_type": "code",
   "execution_count": 149,
   "id": "6f0fd678",
   "metadata": {},
   "outputs": [
    {
     "name": "stdout",
     "output_type": "stream",
     "text": [
      "              Country GDP_USD_millions  GDP_USD_billions\n",
      "0       United States       26,854,599          26854.60\n",
      "1               China       19,373,586          19373.59\n",
      "2               Japan        4,409,738           4409.74\n",
      "3             Germany        4,308,854           4308.85\n",
      "4               India        3,736,882           3736.88\n",
      "..                ...              ...               ...\n",
      "186  Marshall Islands              291              0.29\n",
      "187             Palau              262              0.26\n",
      "188          Kiribati              248              0.25\n",
      "189             Nauru              151              0.15\n",
      "190            Tuvalu               65              0.06\n",
      "\n",
      "[191 rows x 3 columns]\n"
     ]
    }
   ],
   "source": [
    "query_statement = f'select * from {table_name}'\n",
    "run_query(query_statement,conn)"
   ]
  },
  {
   "cell_type": "code",
   "execution_count": 150,
   "id": "4827f6ab",
   "metadata": {},
   "outputs": [],
   "source": [
    "conn.close()"
   ]
  }
 ],
 "metadata": {
  "kernelspec": {
   "display_name": "Python 3 (ipykernel)",
   "language": "python",
   "name": "python3"
  },
  "language_info": {
   "codemirror_mode": {
    "name": "ipython",
    "version": 3
   },
   "file_extension": ".py",
   "mimetype": "text/x-python",
   "name": "python",
   "nbconvert_exporter": "python",
   "pygments_lexer": "ipython3",
   "version": "3.11.5"
  }
 },
 "nbformat": 4,
 "nbformat_minor": 5
}
